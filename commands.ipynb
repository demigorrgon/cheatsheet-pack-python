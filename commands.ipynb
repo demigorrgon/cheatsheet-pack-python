{
 "cells": [
  {
   "cell_type": "markdown",
   "metadata": {},
   "source": [
    "1. [gitignore python](https://github.com/demigorrgon/cheatsheet-pack-python/blob/main/.gitignore)"
   ]
  },
  {
   "cell_type": "markdown",
   "metadata": {},
   "source": [
    "2. Common django setup commands:\n",
    "```\n",
    "pip install django==3.2\n",
    "pip install django-extensions\n",
    "pip install psycopg2\n",
    "pip install pytest\n",
    "pip install pytest-django\n",
    "```"
   ]
  },
  {
   "cell_type": "markdown",
   "metadata": {},
   "source": [
    "3. Postgres setup django settings:\n",
    "```python\n",
    "DATABASES = {\n",
    "    'default': {\n",
    "        'ENGINE': 'django.db.backends.postgresql_psycopg2',\n",
    "        'NAME': ‘<db_name>’,\n",
    "        'USER': '<db_username>',\n",
    "        'PASSWORD': '<password>',\n",
    "        'HOST': '<db_hostname_or_ip>',\n",
    "        'PORT': '<db_port>',\n",
    "    }\n",
    "}\n",
    "```"
   ]
  },
  {
   "cell_type": "markdown",
   "metadata": {},
   "source": [
    "4. Fill model instance with dummy data (pytest + pytest-django installed):\n",
    "```python\n",
    "import pytest\n",
    "from mixer.backend.django import mixer\n",
    "\n",
    "@pytest.fixture\n",
    "def user(django_user_model):\n",
    "    return mixer.blend(django_user_model)\n",
    "\n",
    "def test_user_exists(user):\n",
    "    assert User.objects.count() == 1\n",
    "```",
    "accessing django Model queryset from instance:\n",
    "```\n",
    "instance.__class__.objects.all()\n",
    "```"
   ]
  },
  {
   "cell_type": "markdown",
   "metadata": {},
   "source": [
    "5. pytest.ini\n",
    "```\n",
    "[pytest]\n",
    "DJANGO_SETTINGS_MODULE = project_name.settings\n",
    "```\n",
    "pytest environment variables:\n",
    "```python\n",
    "env =\n",
    "    SEND_VERIFICATION_MAIL = False\n",
    "```"
   ]
  },
  {
   "cell_type": "markdown",
   "metadata": {},
   "source": [
    "6. Django User model import\n",
    "```python\n",
    "from django.contrib.auth.models import User\n",
    "```\n",
    "or \n",
    "```python\n",
    "from django.contrib.auth import get_user_model\n",
    "```"
   ]
  },
  {
   "cell_type": "markdown",
   "metadata": {},
   "source": [
    "TBD"
   ]
  }
 ],
 "metadata": {
  "language_info": {
   "name": "python"
  },
  "orig_nbformat": 4
 },
 "nbformat": 4,
 "nbformat_minor": 2
}
